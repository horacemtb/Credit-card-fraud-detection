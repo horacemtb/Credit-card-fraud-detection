{
 "cells": [
  {
   "cell_type": "code",
   "execution_count": 1,
   "id": "ea9dac73",
   "metadata": {},
   "outputs": [],
   "source": [
    "#!pip install pandarallel"
   ]
  },
  {
   "cell_type": "code",
   "execution_count": 2,
   "id": "4778c45e",
   "metadata": {},
   "outputs": [
    {
     "name": "stdout",
     "output_type": "stream",
     "text": [
      "INFO: Pandarallel will run on 16 workers.\n",
      "INFO: Pandarallel will use Memory file system to transfer data between the main process and workers.\n"
     ]
    }
   ],
   "source": [
    "import os\n",
    "import sys\n",
    "import pickle\n",
    "\n",
    "import numpy as np\n",
    "import pandas as pd\n",
    "\n",
    "import datetime\n",
    "import time\n",
    "\n",
    "import random\n",
    "\n",
    "from pandarallel import pandarallel\n",
    "pandarallel.initialize(progress_bar=True)\n",
    "\n",
    "from tqdm import tqdm\n",
    "tqdm.pandas()"
   ]
  },
  {
   "cell_type": "code",
   "execution_count": 3,
   "id": "99fb13b2",
   "metadata": {},
   "outputs": [],
   "source": [
    "def generate_customer_profiles_table(n_customers, random_state=0):\n",
    "    \n",
    "    np.random.seed(random_state)\n",
    "        \n",
    "    customer_id_properties=[]\n",
    "    \n",
    "    # Generate customer properties from random distributions \n",
    "    for customer_id in range(n_customers):\n",
    "        \n",
    "        x_customer_id = np.random.uniform(0,100)\n",
    "        y_customer_id = np.random.uniform(0,100)\n",
    "        \n",
    "        mean_amount = np.random.uniform(5,100) # Arbitrary (but sensible) value \n",
    "        std_amount = mean_amount/2 # Arbitrary (but sensible) value\n",
    "        \n",
    "        mean_nb_tx_per_day = np.random.uniform(0,4) # Arbitrary (but sensible) value \n",
    "        \n",
    "        customer_id_properties.append([customer_id,\n",
    "                                      x_customer_id, y_customer_id,\n",
    "                                      mean_amount, std_amount,\n",
    "                                      mean_nb_tx_per_day])\n",
    "        \n",
    "    customer_profiles_table = pd.DataFrame(customer_id_properties, columns=['CUSTOMER_ID',\n",
    "                                                                      'x_customer_id', 'y_customer_id',\n",
    "                                                                      'mean_amount', 'std_amount',\n",
    "                                                                      'mean_nb_tx_per_day'])\n",
    "    \n",
    "    return customer_profiles_table"
   ]
  },
  {
   "cell_type": "code",
   "execution_count": 4,
   "id": "7579db86",
   "metadata": {},
   "outputs": [],
   "source": [
    "def generate_terminal_profiles_table(n_terminals, random_state=0):\n",
    "    \n",
    "    np.random.seed(random_state)\n",
    "        \n",
    "    terminal_id_properties=[]\n",
    "    \n",
    "    # Generate terminal properties from random distributions \n",
    "    for terminal_id in range(n_terminals):\n",
    "        \n",
    "        x_terminal_id = np.random.uniform(0,100)\n",
    "        y_terminal_id = np.random.uniform(0,100)\n",
    "        \n",
    "        terminal_id_properties.append([terminal_id,\n",
    "                                      x_terminal_id, y_terminal_id])\n",
    "                                       \n",
    "    terminal_profiles_table = pd.DataFrame(terminal_id_properties, columns=['TERMINAL_ID',\n",
    "                                                                      'x_terminal_id', 'y_terminal_id'])\n",
    "    \n",
    "    return terminal_profiles_table"
   ]
  },
  {
   "cell_type": "code",
   "execution_count": 5,
   "id": "9ee8aaec",
   "metadata": {},
   "outputs": [],
   "source": [
    "def get_list_terminals_within_radius(customer_profile, x_y_terminals, r):\n",
    "    \n",
    "    # Use numpy arrays in the following to speed up computations\n",
    "    \n",
    "    # Location (x,y) of customer as numpy array\n",
    "    x_y_customer = customer_profile[['x_customer_id','y_customer_id']].values.astype(float)\n",
    "    \n",
    "    # Squared difference in coordinates between customer and terminal locations\n",
    "    squared_diff_x_y = np.square(x_y_customer - x_y_terminals)\n",
    "    \n",
    "    # Sum along rows and compute suared root to get distance\n",
    "    dist_x_y = np.sqrt(np.sum(squared_diff_x_y, axis=1))\n",
    "    \n",
    "    # Get the indices of terminals which are at a distance less than r\n",
    "    available_terminals = list(np.where(dist_x_y<r)[0])\n",
    "    \n",
    "    # Return the list of terminal IDs\n",
    "    return available_terminals"
   ]
  },
  {
   "cell_type": "code",
   "execution_count": 6,
   "id": "232a3404",
   "metadata": {},
   "outputs": [],
   "source": [
    "def generate_transactions_table(customer_profile, start_date, nb_days = 10):\n",
    "    \n",
    "    customer_transactions = []\n",
    "    \n",
    "    random.seed(int(customer_profile.CUSTOMER_ID))\n",
    "    np.random.seed(int(customer_profile.CUSTOMER_ID))\n",
    "    \n",
    "    # For all days\n",
    "    for day in range(nb_days):\n",
    "        \n",
    "        # Random number of transactions for that day \n",
    "        nb_tx = np.random.poisson(customer_profile.mean_nb_tx_per_day)\n",
    "        \n",
    "        # If nb_tx positive, let us generate transactions\n",
    "        if nb_tx>0:\n",
    "            \n",
    "            for tx in range(nb_tx):\n",
    "                \n",
    "                # Time of transaction: Around noon, std 20000 seconds. This choice aims at simulating the fact that \n",
    "                # most transactions occur during the day.\n",
    "                time_tx = int(np.random.normal(86400/2, 20000))\n",
    "                \n",
    "                # If transaction time between 0 and 86400, let us keep it, otherwise, let us discard it\n",
    "                if (time_tx>0) and (time_tx<86400):\n",
    "                    \n",
    "                    # Amount is drawn from a normal distribution  \n",
    "                    amount = np.random.normal(customer_profile.mean_amount, customer_profile.std_amount)\n",
    "                    \n",
    "                    # If amount negative, draw from a uniform distribution\n",
    "                    if amount<0:\n",
    "                        amount = np.random.uniform(0,customer_profile.mean_amount*2)\n",
    "                    \n",
    "                    amount=np.round(amount,decimals=2)\n",
    "                    \n",
    "                    if len(customer_profile.available_terminals)>0:\n",
    "                        \n",
    "                        terminal_id = random.choice(customer_profile.available_terminals)\n",
    "                    \n",
    "                        customer_transactions.append([time_tx+day*86400, day,\n",
    "                                                      customer_profile.CUSTOMER_ID, \n",
    "                                                      terminal_id, amount])\n",
    "            \n",
    "    customer_transactions = pd.DataFrame(customer_transactions, columns=['TX_TIME_SECONDS', 'TX_TIME_DAYS', 'CUSTOMER_ID', 'TERMINAL_ID', 'TX_AMOUNT'])\n",
    "    \n",
    "    if len(customer_transactions)>0:\n",
    "        customer_transactions['TX_DATETIME'] = pd.to_datetime(customer_transactions[\"TX_TIME_SECONDS\"], unit='s', origin=start_date)\n",
    "        customer_transactions=customer_transactions[['TX_DATETIME','CUSTOMER_ID', 'TERMINAL_ID', 'TX_AMOUNT','TX_TIME_SECONDS', 'TX_TIME_DAYS']]\n",
    "    \n",
    "    return customer_transactions"
   ]
  },
  {
   "cell_type": "code",
   "execution_count": 7,
   "id": "731a31cd",
   "metadata": {},
   "outputs": [],
   "source": [
    "def add_frauds(customer_profiles_table, terminal_profiles_table, transactions_df):\n",
    "    \n",
    "    # By default, all transactions are genuine\n",
    "    transactions_df['TX_FRAUD']=0\n",
    "    transactions_df['TX_FRAUD_SCENARIO']=0\n",
    "    \n",
    "    # Scenario 1\n",
    "    transactions_df.loc[transactions_df.TX_AMOUNT>220, 'TX_FRAUD']=1\n",
    "    transactions_df.loc[transactions_df.TX_AMOUNT>220, 'TX_FRAUD_SCENARIO']=1\n",
    "    nb_frauds_scenario_1=transactions_df.TX_FRAUD.sum()\n",
    "    print(\"Number of frauds from scenario 1: \"+str(nb_frauds_scenario_1))\n",
    "    \n",
    "    # Scenario 2\n",
    "#     for day in range(transactions_df.TX_TIME_DAYS.max()):\n",
    "        \n",
    "#         compromised_terminals = terminal_profiles_table.TERMINAL_ID.sample(n=1, random_state=day)\n",
    "        \n",
    "#         compromised_transactions=transactions_df[(transactions_df.TX_TIME_DAYS>=day) & \n",
    "#                                                     (transactions_df.TX_TIME_DAYS<day+14) & \n",
    "#                                                     (transactions_df.TERMINAL_ID.isin(compromised_terminals))]\n",
    "                            \n",
    "#         transactions_df.loc[compromised_transactions.index,'TX_FRAUD']=1\n",
    "#         transactions_df.loc[compromised_transactions.index,'TX_FRAUD_SCENARIO']=2\n",
    "    \n",
    "#     nb_frauds_scenario_2=transactions_df.TX_FRAUD.sum()-nb_frauds_scenario_1\n",
    "#     print(\"Number of frauds from scenario 2: \"+str(nb_frauds_scenario_2))\n",
    "    \n",
    "    # Scenario 3\n",
    "#     for day in range(transactions_df.TX_TIME_DAYS.max()):\n",
    "        \n",
    "#         compromised_customers = customer_profiles_table.CUSTOMER_ID.sample(n=3, random_state=day).values\n",
    "        \n",
    "#         compromised_transactions=transactions_df[(transactions_df.TX_TIME_DAYS>=day) & \n",
    "#                                                     (transactions_df.TX_TIME_DAYS<day+14) & \n",
    "#                                                     (transactions_df.CUSTOMER_ID.isin(compromised_customers))]\n",
    "        \n",
    "#         nb_compromised_transactions=len(compromised_transactions)\n",
    "        \n",
    "        \n",
    "#         random.seed(day)\n",
    "#         index_fauds = random.sample(list(compromised_transactions.index.values),k=int(nb_compromised_transactions/3))\n",
    "        \n",
    "#         transactions_df.loc[index_fauds,'TX_AMOUNT']=transactions_df.loc[index_fauds,'TX_AMOUNT']*5\n",
    "#         transactions_df.loc[index_fauds,'TX_FRAUD']=1\n",
    "#         transactions_df.loc[index_fauds,'TX_FRAUD_SCENARIO']=3\n",
    "        \n",
    "                             \n",
    "#     nb_frauds_scenario_3=transactions_df.TX_FRAUD.sum()-nb_frauds_scenario_2-nb_frauds_scenario_1\n",
    "#     print(\"Number of frauds from scenario 3: \"+str(nb_frauds_scenario_3))\n",
    "    \n",
    "    return transactions_df"
   ]
  },
  {
   "cell_type": "code",
   "execution_count": 8,
   "id": "f479ef35",
   "metadata": {},
   "outputs": [],
   "source": [
    "def generate_dataset(customer_profiles_table, terminal_profiles_table, nb_days=10, start_date=\"2018-01-01\", r=5, start_index = 0):\n",
    "    \n",
    "    start_time=time.time()\n",
    "    x_y_terminals = terminal_profiles_table[['x_terminal_id','y_terminal_id']].values.astype(float)\n",
    "    #customer_profiles_table['available_terminals'] = customer_profiles_table.apply(lambda x : get_list_terminals_within_radius(x, x_y_terminals=x_y_terminals, r=r), axis=1)\n",
    "    # With Pandarallel\n",
    "    customer_profiles_table['available_terminals'] = customer_profiles_table.parallel_apply(lambda x : get_list_terminals_within_radius(x, x_y_terminals=x_y_terminals, r=r), axis=1)\n",
    "    customer_profiles_table['nb_terminals']=customer_profiles_table.available_terminals.apply(len)\n",
    "    print(\"Time to associate terminals to customers: {0:.2}s\".format(time.time()-start_time))\n",
    "    \n",
    "    start_time=time.time()\n",
    "    # transactions_df=customer_profiles_table.groupby('CUSTOMER_ID').apply(lambda x : generate_transactions_table(x.iloc[0], nb_days=nb_days)).reset_index(drop=True)\n",
    "    # With Pandarallel\n",
    "    transactions_df=customer_profiles_table.groupby('CUSTOMER_ID').parallel_apply(lambda x : generate_transactions_table(x.iloc[0], start_date, nb_days=nb_days)).reset_index(drop=True)\n",
    "    print(\"Time to generate transactions: {0:.2}s\".format(time.time()-start_time))\n",
    "    \n",
    "    # Sort transactions chronologically\n",
    "    transactions_df=transactions_df.sort_values('TX_DATETIME')\n",
    "    # Reset indices, starting from 0\n",
    "    transactions_df.reset_index(inplace=True,drop=True)\n",
    "    transactions_df.reset_index(inplace=True)\n",
    "    # TRANSACTION_ID are the dataframe indices, starting from 0\n",
    "    transactions_df.rename(columns = {'index':'TRANSACTION_ID'}, inplace = True)\n",
    "    transactions_df.TRANSACTION_ID += start_index\n",
    "\n",
    "    transactions_df = add_frauds(customer_profiles_table, terminal_profiles_table, transactions_df)\n",
    "\n",
    "    return transactions_df"
   ]
  },
  {
   "cell_type": "code",
   "execution_count": 9,
   "id": "a3def62e",
   "metadata": {},
   "outputs": [],
   "source": [
    "DIR_OUTPUT = \"simulated-data-raw/\"\n",
    "\n",
    "if not os.path.exists(DIR_OUTPUT):\n",
    "    os.makedirs(DIR_OUTPUT)"
   ]
  },
  {
   "cell_type": "code",
   "execution_count": 10,
   "id": "8bd292ff",
   "metadata": {},
   "outputs": [
    {
     "name": "stdout",
     "output_type": "stream",
     "text": [
      "Filesystem      Size  Used Avail Use% Mounted on\r\n",
      "udev             63G     0   63G   0% /dev\r\n",
      "tmpfs            13G  988K   13G   1% /run\r\n",
      "/dev/vda2       126G   13G  109G  11% /\r\n",
      "tmpfs            63G     0   63G   0% /dev/shm\r\n",
      "tmpfs           5.0M     0  5.0M   0% /run/lock\r\n",
      "tmpfs            63G     0   63G   0% /sys/fs/cgroup\r\n",
      "tmpfs            13G     0   13G   0% /run/user/1000\r\n"
     ]
    }
   ],
   "source": [
    "!df -h"
   ]
  },
  {
   "cell_type": "code",
   "execution_count": 11,
   "id": "5347a66a",
   "metadata": {
    "scrolled": false
   },
   "outputs": [
    {
     "name": "stdout",
     "output_type": "stream",
     "text": [
      "Generating data for year 2011\n",
      "\n"
     ]
    },
    {
     "data": {
      "application/vnd.jupyter.widget-view+json": {
       "model_id": "cc9eeceb18a64be387bb51a1b90efb57",
       "version_major": 2,
       "version_minor": 0
      },
      "text/plain": [
       "VBox(children=(HBox(children=(IntProgress(value=0, description='0.00%', max=12500), Label(value='0 / 12500')))…"
      ]
     },
     "metadata": {},
     "output_type": "display_data"
    },
    {
     "name": "stdout",
     "output_type": "stream",
     "text": [
      "Time to associate terminals to customers: 2.8e+01s\n"
     ]
    },
    {
     "data": {
      "application/vnd.jupyter.widget-view+json": {
       "model_id": "c49c5cf931f146ab80af729ea7ea746e",
       "version_major": 2,
       "version_minor": 0
      },
      "text/plain": [
       "VBox(children=(HBox(children=(IntProgress(value=0, description='0.00%', max=12500), Label(value='0 / 12500')))…"
      ]
     },
     "metadata": {},
     "output_type": "display_data"
    },
    {
     "name": "stdout",
     "output_type": "stream",
     "text": [
      "Time to generate transactions: 1e+03s\n",
      "Number of frauds from scenario 1: 80511\n",
      "Size MB: 26015\n",
      "(141396207, 9)\n",
      "   TRANSACTION_ID         TX_DATETIME CUSTOMER_ID TERMINAL_ID  TX_AMOUNT  \\\n",
      "0               0 2011-01-01 00:00:01      102538       10931     126.90   \n",
      "1               1 2011-01-01 00:00:02      150923       16325      10.47   \n",
      "2               2 2011-01-01 00:00:02       48113        4197     108.66   \n",
      "\n",
      "  TX_TIME_SECONDS TX_TIME_DAYS  TX_FRAUD  TX_FRAUD_SCENARIO  \n",
      "0               1            0         0                  0  \n",
      "1               2            0         0                  0  \n",
      "2               2            0         0                  0  \n",
      "\n",
      "Generating data for year 2012\n",
      "\n"
     ]
    },
    {
     "data": {
      "application/vnd.jupyter.widget-view+json": {
       "model_id": "f79d66a615d449f79b62f7bf64d5550d",
       "version_major": 2,
       "version_minor": 0
      },
      "text/plain": [
       "VBox(children=(HBox(children=(IntProgress(value=0, description='0.00%', max=12500), Label(value='0 / 12500')))…"
      ]
     },
     "metadata": {},
     "output_type": "display_data"
    },
    {
     "name": "stdout",
     "output_type": "stream",
     "text": [
      "Time to associate terminals to customers: 3.6e+01s\n"
     ]
    },
    {
     "data": {
      "application/vnd.jupyter.widget-view+json": {
       "model_id": "dda5d8b70e984ee8a88fa92c4a8ed8b3",
       "version_major": 2,
       "version_minor": 0
      },
      "text/plain": [
       "VBox(children=(HBox(children=(IntProgress(value=0, description='0.00%', max=12500), Label(value='0 / 12500')))…"
      ]
     },
     "metadata": {},
     "output_type": "display_data"
    },
    {
     "name": "stdout",
     "output_type": "stream",
     "text": [
      "Time to generate transactions: 1.1e+03s\n",
      "Number of frauds from scenario 1: 80835\n",
      "Size MB: 26071\n",
      "(141698220, 9)\n",
      "   TRANSACTION_ID         TX_DATETIME CUSTOMER_ID TERMINAL_ID  TX_AMOUNT  \\\n",
      "0       141396207 2012-01-01 00:00:02      150923       14557      12.13   \n",
      "1       141396208 2012-01-01 00:00:02       48113        4571      87.37   \n",
      "2       141396209 2012-01-01 00:00:04      100490       15708      15.51   \n",
      "\n",
      "  TX_TIME_SECONDS TX_TIME_DAYS  TX_FRAUD  TX_FRAUD_SCENARIO  \n",
      "0               2            0         0                  0  \n",
      "1               2            0         0                  0  \n",
      "2               4            0         0                  0  \n",
      "\n",
      "Generating data for year 2013\n",
      "\n"
     ]
    },
    {
     "data": {
      "application/vnd.jupyter.widget-view+json": {
       "model_id": "387b7202c20f4aeab44d5b4cdf923ce2",
       "version_major": 2,
       "version_minor": 0
      },
      "text/plain": [
       "VBox(children=(HBox(children=(IntProgress(value=0, description='0.00%', max=12500), Label(value='0 / 12500')))…"
      ]
     },
     "metadata": {},
     "output_type": "display_data"
    },
    {
     "name": "stdout",
     "output_type": "stream",
     "text": [
      "Time to associate terminals to customers: 4.4e+01s\n"
     ]
    },
    {
     "data": {
      "application/vnd.jupyter.widget-view+json": {
       "model_id": "7bfaaff29d8b4608927bc9a262b2aa8c",
       "version_major": 2,
       "version_minor": 0
      },
      "text/plain": [
       "VBox(children=(HBox(children=(IntProgress(value=0, description='0.00%', max=12500), Label(value='0 / 12500')))…"
      ]
     },
     "metadata": {},
     "output_type": "display_data"
    },
    {
     "name": "stdout",
     "output_type": "stream",
     "text": [
      "Time to generate transactions: 1.1e+03s\n",
      "Number of frauds from scenario 1: 81764\n",
      "Size MB: 26039\n",
      "(141525528, 9)\n",
      "   TRANSACTION_ID         TX_DATETIME CUSTOMER_ID TERMINAL_ID  TX_AMOUNT  \\\n",
      "0       283094427 2013-01-01 00:00:01      130737       15541      15.54   \n",
      "1       283094428 2013-01-01 00:00:02       48113       18424      21.01   \n",
      "2       283094429 2013-01-01 00:00:05       46215       15624      80.49   \n",
      "\n",
      "  TX_TIME_SECONDS TX_TIME_DAYS  TX_FRAUD  TX_FRAUD_SCENARIO  \n",
      "0               1            0         0                  0  \n",
      "1               2            0         0                  0  \n",
      "2               5            0         0                  0  \n",
      "\n",
      "Generating data for year 2014\n",
      "\n"
     ]
    },
    {
     "data": {
      "application/vnd.jupyter.widget-view+json": {
       "model_id": "de521fa196264cdebcdbe7f0e046b69f",
       "version_major": 2,
       "version_minor": 0
      },
      "text/plain": [
       "VBox(children=(HBox(children=(IntProgress(value=0, description='0.00%', max=12500), Label(value='0 / 12500')))…"
      ]
     },
     "metadata": {},
     "output_type": "display_data"
    },
    {
     "name": "stdout",
     "output_type": "stream",
     "text": [
      "Time to associate terminals to customers: 4.5e+01s\n"
     ]
    },
    {
     "data": {
      "application/vnd.jupyter.widget-view+json": {
       "model_id": "7eca9c2919954169a58c989225dd2b46",
       "version_major": 2,
       "version_minor": 0
      },
      "text/plain": [
       "VBox(children=(HBox(children=(IntProgress(value=0, description='0.00%', max=12500), Label(value='0 / 12500')))…"
      ]
     },
     "metadata": {},
     "output_type": "display_data"
    },
    {
     "name": "stdout",
     "output_type": "stream",
     "text": [
      "Time to generate transactions: 1.2e+03s\n",
      "Number of frauds from scenario 1: 80743\n",
      "Size MB: 26064\n",
      "(141660804, 9)\n",
      "   TRANSACTION_ID         TX_DATETIME CUSTOMER_ID TERMINAL_ID  TX_AMOUNT  \\\n",
      "0       424619955 2014-01-01 00:00:01      130737       16589      15.67   \n",
      "1       424619956 2014-01-01 00:00:02       48113       17322      63.65   \n",
      "2       424619957 2014-01-01 00:00:03      109802       10581      14.12   \n",
      "\n",
      "  TX_TIME_SECONDS TX_TIME_DAYS  TX_FRAUD  TX_FRAUD_SCENARIO  \n",
      "0               1            0         0                  0  \n",
      "1               2            0         0                  0  \n",
      "2               3            0         0                  0  \n",
      "\n",
      "Generating data for year 2015\n",
      "\n"
     ]
    },
    {
     "data": {
      "application/vnd.jupyter.widget-view+json": {
       "model_id": "9473448b92f541efb6142481a878aa53",
       "version_major": 2,
       "version_minor": 0
      },
      "text/plain": [
       "VBox(children=(HBox(children=(IntProgress(value=0, description='0.00%', max=12500), Label(value='0 / 12500')))…"
      ]
     },
     "metadata": {},
     "output_type": "display_data"
    },
    {
     "name": "stdout",
     "output_type": "stream",
     "text": [
      "Time to associate terminals to customers: 4.8e+01s\n"
     ]
    },
    {
     "data": {
      "application/vnd.jupyter.widget-view+json": {
       "model_id": "d9b6eb3a23e643f4a2c98ad58645fa94",
       "version_major": 2,
       "version_minor": 0
      },
      "text/plain": [
       "VBox(children=(HBox(children=(IntProgress(value=0, description='0.00%', max=12500), Label(value='0 / 12500')))…"
      ]
     },
     "metadata": {},
     "output_type": "display_data"
    },
    {
     "name": "stdout",
     "output_type": "stream",
     "text": [
      "Time to generate transactions: 1.2e+03s\n",
      "Number of frauds from scenario 1: 82712\n",
      "Size MB: 26069\n",
      "(141687222, 9)\n",
      "   TRANSACTION_ID         TX_DATETIME CUSTOMER_ID TERMINAL_ID  TX_AMOUNT  \\\n",
      "0       566280759 2015-01-01 00:00:03      109802       11627      35.79   \n",
      "1       566280760 2015-01-01 00:00:04      152990        5139      56.46   \n",
      "2       566280761 2015-01-01 00:00:04      100490       13948      40.57   \n",
      "\n",
      "  TX_TIME_SECONDS TX_TIME_DAYS  TX_FRAUD  TX_FRAUD_SCENARIO  \n",
      "0               3            0         0                  0  \n",
      "1               4            0         0                  0  \n",
      "2               4            0         0                  0  \n",
      "\n",
      "Generating data for year 2016\n",
      "\n"
     ]
    },
    {
     "data": {
      "application/vnd.jupyter.widget-view+json": {
       "model_id": "24cc990473e949748075ce0130392852",
       "version_major": 2,
       "version_minor": 0
      },
      "text/plain": [
       "VBox(children=(HBox(children=(IntProgress(value=0, description='0.00%', max=12500), Label(value='0 / 12500')))…"
      ]
     },
     "metadata": {},
     "output_type": "display_data"
    },
    {
     "name": "stdout",
     "output_type": "stream",
     "text": [
      "Time to associate terminals to customers: 4.9e+01s\n"
     ]
    },
    {
     "data": {
      "application/vnd.jupyter.widget-view+json": {
       "model_id": "42c4739324d7428ba8c1fe9651f4bfef",
       "version_major": 2,
       "version_minor": 0
      },
      "text/plain": [
       "VBox(children=(HBox(children=(IntProgress(value=0, description='0.00%', max=12500), Label(value='0 / 12500')))…"
      ]
     },
     "metadata": {},
     "output_type": "display_data"
    },
    {
     "name": "stdout",
     "output_type": "stream",
     "text": [
      "Time to generate transactions: 1.2e+03s\n",
      "Number of frauds from scenario 1: 82629\n",
      "Size MB: 26049\n",
      "(141577161, 9)\n",
      "   TRANSACTION_ID         TX_DATETIME CUSTOMER_ID TERMINAL_ID  TX_AMOUNT  \\\n",
      "0       707967981 2016-01-01 00:00:01      102538        9872      66.84   \n",
      "1       707967982 2016-01-01 00:00:02      150923       16989      21.80   \n",
      "2       707967983 2016-01-01 00:00:03      179129       14836      65.08   \n",
      "\n",
      "  TX_TIME_SECONDS TX_TIME_DAYS  TX_FRAUD  TX_FRAUD_SCENARIO  \n",
      "0               1            0         0                  0  \n",
      "1               2            0         0                  0  \n",
      "2               3            0         0                  0  \n",
      "\n",
      "Generating data for year 2017\n",
      "\n"
     ]
    },
    {
     "data": {
      "application/vnd.jupyter.widget-view+json": {
       "model_id": "63a58195e9ea4280858b8add7d8ea004",
       "version_major": 2,
       "version_minor": 0
      },
      "text/plain": [
       "VBox(children=(HBox(children=(IntProgress(value=0, description='0.00%', max=12500), Label(value='0 / 12500')))…"
      ]
     },
     "metadata": {},
     "output_type": "display_data"
    },
    {
     "name": "stdout",
     "output_type": "stream",
     "text": [
      "Time to associate terminals to customers: 4.9e+01s\n"
     ]
    },
    {
     "data": {
      "application/vnd.jupyter.widget-view+json": {
       "model_id": "045c7e1914eb4e798ef2eadb848634e4",
       "version_major": 2,
       "version_minor": 0
      },
      "text/plain": [
       "VBox(children=(HBox(children=(IntProgress(value=0, description='0.00%', max=12500), Label(value='0 / 12500')))…"
      ]
     },
     "metadata": {},
     "output_type": "display_data"
    },
    {
     "name": "stdout",
     "output_type": "stream",
     "text": [
      "Time to generate transactions: 1.2e+03s\n",
      "Number of frauds from scenario 1: 81301\n",
      "Size MB: 26036\n",
      "(141509089, 9)\n",
      "   TRANSACTION_ID         TX_DATETIME CUSTOMER_ID TERMINAL_ID  TX_AMOUNT  \\\n",
      "0       849545142 2017-01-01 00:00:02       48113        5754     146.89   \n",
      "1       849545143 2017-01-01 00:00:02      150923       17663     111.55   \n",
      "2       849545144 2017-01-01 00:00:03      105863        4273      94.58   \n",
      "\n",
      "  TX_TIME_SECONDS TX_TIME_DAYS  TX_FRAUD  TX_FRAUD_SCENARIO  \n",
      "0               2            0         0                  0  \n",
      "1               2            0         0                  0  \n",
      "2               3            0         0                  0  \n",
      "\n",
      "Generating data for year 2018\n",
      "\n"
     ]
    },
    {
     "data": {
      "application/vnd.jupyter.widget-view+json": {
       "model_id": "f70a6310f945485ca1ed91fc16f5f993",
       "version_major": 2,
       "version_minor": 0
      },
      "text/plain": [
       "VBox(children=(HBox(children=(IntProgress(value=0, description='0.00%', max=12500), Label(value='0 / 12500')))…"
      ]
     },
     "metadata": {},
     "output_type": "display_data"
    },
    {
     "name": "stdout",
     "output_type": "stream",
     "text": [
      "Time to associate terminals to customers: 4.9e+01s\n"
     ]
    },
    {
     "data": {
      "application/vnd.jupyter.widget-view+json": {
       "model_id": "93afdfbdf6b54a4aaf069d538b8bab88",
       "version_major": 2,
       "version_minor": 0
      },
      "text/plain": [
       "VBox(children=(HBox(children=(IntProgress(value=0, description='0.00%', max=12500), Label(value='0 / 12500')))…"
      ]
     },
     "metadata": {},
     "output_type": "display_data"
    },
    {
     "name": "stdout",
     "output_type": "stream",
     "text": [
      "Time to generate transactions: 1.2e+03s\n",
      "Number of frauds from scenario 1: 80795\n",
      "Size MB: 26025\n",
      "(141447938, 9)\n",
      "   TRANSACTION_ID         TX_DATETIME CUSTOMER_ID TERMINAL_ID  TX_AMOUNT  \\\n",
      "0       991054231 2018-01-01 00:00:02       48113        3959      85.45   \n",
      "1       991054232 2018-01-01 00:00:06      148618        1057     108.90   \n",
      "2       991054233 2018-01-01 00:00:07      119062       14198     117.18   \n",
      "\n",
      "  TX_TIME_SECONDS TX_TIME_DAYS  TX_FRAUD  TX_FRAUD_SCENARIO  \n",
      "0               2            0         0                  0  \n",
      "1               6            0         0                  0  \n",
      "2               7            0         0                  0  \n",
      "\n",
      "Generating data for year 2019\n",
      "\n"
     ]
    },
    {
     "data": {
      "application/vnd.jupyter.widget-view+json": {
       "model_id": "be9cf29ec6e2449fb281c74da5427a83",
       "version_major": 2,
       "version_minor": 0
      },
      "text/plain": [
       "VBox(children=(HBox(children=(IntProgress(value=0, description='0.00%', max=12500), Label(value='0 / 12500')))…"
      ]
     },
     "metadata": {},
     "output_type": "display_data"
    },
    {
     "name": "stdout",
     "output_type": "stream",
     "text": [
      "Time to associate terminals to customers: 4.7e+01s\n"
     ]
    },
    {
     "data": {
      "application/vnd.jupyter.widget-view+json": {
       "model_id": "a93b7a3d0e8847d8aa06ad0249db460b",
       "version_major": 2,
       "version_minor": 0
      },
      "text/plain": [
       "VBox(children=(HBox(children=(IntProgress(value=0, description='0.00%', max=12500), Label(value='0 / 12500')))…"
      ]
     },
     "metadata": {},
     "output_type": "display_data"
    },
    {
     "name": "stdout",
     "output_type": "stream",
     "text": [
      "Time to generate transactions: 1.2e+03s\n",
      "Number of frauds from scenario 1: 81089\n",
      "Size MB: 25987\n",
      "(141241028, 9)\n",
      "   TRANSACTION_ID         TX_DATETIME CUSTOMER_ID TERMINAL_ID  TX_AMOUNT  \\\n",
      "0      1132502169 2019-01-01 00:00:02       48113        4142      12.34   \n",
      "1      1132502170 2019-01-01 00:00:04      152990       19109      72.23   \n",
      "2      1132502171 2019-01-01 00:00:05      112421       17172       7.18   \n",
      "\n",
      "  TX_TIME_SECONDS TX_TIME_DAYS  TX_FRAUD  TX_FRAUD_SCENARIO  \n",
      "0               2            0         0                  0  \n",
      "1               4            0         0                  0  \n",
      "2               5            0         0                  0  \n",
      "\n",
      "Generating data for year 2020\n",
      "\n"
     ]
    },
    {
     "data": {
      "application/vnd.jupyter.widget-view+json": {
       "model_id": "55e8102911d5471a81f4fcb283a30e5a",
       "version_major": 2,
       "version_minor": 0
      },
      "text/plain": [
       "VBox(children=(HBox(children=(IntProgress(value=0, description='0.00%', max=12500), Label(value='0 / 12500')))…"
      ]
     },
     "metadata": {},
     "output_type": "display_data"
    },
    {
     "name": "stdout",
     "output_type": "stream",
     "text": [
      "Time to associate terminals to customers: 4.9e+01s\n"
     ]
    },
    {
     "data": {
      "application/vnd.jupyter.widget-view+json": {
       "model_id": "7b3b8675481e43c586e31ac59f143f36",
       "version_major": 2,
       "version_minor": 0
      },
      "text/plain": [
       "VBox(children=(HBox(children=(IntProgress(value=0, description='0.00%', max=12500), Label(value='0 / 12500')))…"
      ]
     },
     "metadata": {},
     "output_type": "display_data"
    },
    {
     "name": "stdout",
     "output_type": "stream",
     "text": [
      "Time to generate transactions: 1.2e+03s\n",
      "Number of frauds from scenario 1: 81198\n",
      "Size MB: 26043\n",
      "(141548505, 9)\n",
      "   TRANSACTION_ID         TX_DATETIME CUSTOMER_ID TERMINAL_ID  TX_AMOUNT  \\\n",
      "0      1273743197 2020-01-01 00:00:01      102538       11649      64.90   \n",
      "1      1273743198 2020-01-01 00:00:01      130737       17693       7.72   \n",
      "2      1273743199 2020-01-01 00:00:02      150923       12159      97.64   \n",
      "\n",
      "  TX_TIME_SECONDS TX_TIME_DAYS  TX_FRAUD  TX_FRAUD_SCENARIO  \n",
      "0               1            0         0                  0  \n",
      "1               1            0         0                  0  \n",
      "2               2            0         0                  0  \n",
      "\n"
     ]
    }
   ],
   "source": [
    "start_index = 0\n",
    "\n",
    "for seed, year in zip([0, 1, 2, 3, 4, 5, 6, 7, 8, 9], \n",
    "                      [2011, 2012, 2013, 2014, 2015, 2016, 2017, 2018, 2019, 2020]):\n",
    "\n",
    "    customer_profiles_table = generate_customer_profiles_table(n_customers = 200000, random_state = seed)\n",
    "    terminal_profiles_table = generate_terminal_profiles_table(n_terminals = 20000, random_state = seed)\n",
    "\n",
    "    print('Generating data for year {}'.format(year))\n",
    "    print()\n",
    "\n",
    "    start_date = \"{}-01-01\".format(year)\n",
    "\n",
    "    transactions_df = generate_dataset(customer_profiles_table, \n",
    "                                         terminal_profiles_table, \n",
    "                                         nb_days=365, \n",
    "                                         start_date = start_date, \n",
    "                                         r=5,\n",
    "                                         start_index = start_index)\n",
    "\n",
    "    print('Size MB: {}'.format(round(sys.getsizeof(transactions_df) / 1e6)))\n",
    "\n",
    "    start_index += len(transactions_df)\n",
    "\n",
    "    print(transactions_df.shape)\n",
    "\n",
    "    print(transactions_df.head(3))\n",
    "\n",
    "    start_date = datetime.datetime.strptime(start_date, \"%Y-%m-%d\")    \n",
    "    \n",
    "#     for day in range(transactions_df.TX_TIME_DAYS.max()+1):\n",
    "    \n",
    "#         transactions_day = transactions_df[transactions_df.TX_TIME_DAYS==day].sort_values('TX_TIME_SECONDS')\n",
    "\n",
    "#         date = start_date + datetime.timedelta(days=day)\n",
    "#         filename_output = date.strftime(\"%Y-%m-%d\")+'.pkl' / .csv\n",
    "\n",
    "#         #transactions_day.to_csv(DIR_OUTPUT+filename_output, index=False)\n",
    "\n",
    "#     # Protocol=4 required for Google Colab\n",
    "#         transactions_day.to_pickle(DIR_OUTPUT+filename_output)\n",
    "\n",
    "#     print()\n",
    "    \n",
    "    transactions_df['TX_TIME_MONTHS'] = transactions_df['TX_DATETIME'].dt.month\n",
    "    \n",
    "    for month in range(transactions_df.TX_TIME_MONTHS.max()):\n",
    "    \n",
    "        transactions_month = transactions_df[transactions_df.TX_TIME_MONTHS==month+1].sort_values('TX_TIME_SECONDS')\n",
    "        \n",
    "        if month <= 8:\n",
    "        \n",
    "            filename_output = \"{}-0{}\".format(year, month+1) +'.pkl'\n",
    "        \n",
    "        else:\n",
    "            \n",
    "            filename_output = \"{}-{}\".format(year, month+1) +'.pkl'\n",
    "\n",
    "        #transactions_day.to_csv(DIR_OUTPUT+filename_output, index=False)\n",
    "\n",
    "    # Protocol=4 required for Google Colab\n",
    "        transactions_month.to_pickle(DIR_OUTPUT+filename_output)\n",
    "\n",
    "    print()\n",
    "    \n",
    "    del transactions_df\n",
    "    del customer_profiles_table\n",
    "    del terminal_profiles_table "
   ]
  },
  {
   "cell_type": "code",
   "execution_count": 14,
   "id": "7c901e41",
   "metadata": {},
   "outputs": [
    {
     "name": "stdout",
     "output_type": "stream",
     "text": [
      "Folder size (MB):  99968\n"
     ]
    }
   ],
   "source": [
    "from pathlib import Path\n",
    "\n",
    "root_directory = Path('/home/ubuntu/')\n",
    "print('Folder size (MB): ', round(sum(f.stat().st_size for f in root_directory.glob('My projects/Fraud detection/simulated-data-raw/*') if f.is_file()) / 1e6))"
   ]
  },
  {
   "cell_type": "code",
   "execution_count": 21,
   "id": "01d597b5",
   "metadata": {},
   "outputs": [],
   "source": [
    "with open(r\"/home/ubuntu/My projects/Fraud detection/simulated-data-raw/2020-12.pkl\", \"rb\") as input_file:\n",
    "    data = pickle.load(input_file)"
   ]
  },
  {
   "cell_type": "code",
   "execution_count": 28,
   "id": "96b7b712",
   "metadata": {},
   "outputs": [
    {
     "data": {
      "text/html": [
       "<div>\n",
       "<style scoped>\n",
       "    .dataframe tbody tr th:only-of-type {\n",
       "        vertical-align: middle;\n",
       "    }\n",
       "\n",
       "    .dataframe tbody tr th {\n",
       "        vertical-align: top;\n",
       "    }\n",
       "\n",
       "    .dataframe thead th {\n",
       "        text-align: right;\n",
       "    }\n",
       "</style>\n",
       "<table border=\"1\" class=\"dataframe\">\n",
       "  <thead>\n",
       "    <tr style=\"text-align: right;\">\n",
       "      <th></th>\n",
       "      <th>TRANSACTION_ID</th>\n",
       "      <th>TX_DATETIME</th>\n",
       "      <th>CUSTOMER_ID</th>\n",
       "      <th>TERMINAL_ID</th>\n",
       "      <th>TX_AMOUNT</th>\n",
       "      <th>TX_TIME_SECONDS</th>\n",
       "      <th>TX_TIME_DAYS</th>\n",
       "      <th>TX_FRAUD</th>\n",
       "      <th>TX_FRAUD_SCENARIO</th>\n",
       "      <th>TX_TIME_MONTHS</th>\n",
       "    </tr>\n",
       "  </thead>\n",
       "  <tbody>\n",
       "    <tr>\n",
       "      <th>129913199</th>\n",
       "      <td>1403656396</td>\n",
       "      <td>2020-12-01 00:00:03</td>\n",
       "      <td>169670</td>\n",
       "      <td>18277</td>\n",
       "      <td>28.41</td>\n",
       "      <td>28944003</td>\n",
       "      <td>335</td>\n",
       "      <td>0</td>\n",
       "      <td>0</td>\n",
       "      <td>12</td>\n",
       "    </tr>\n",
       "    <tr>\n",
       "      <th>129913200</th>\n",
       "      <td>1403656397</td>\n",
       "      <td>2020-12-01 00:00:03</td>\n",
       "      <td>87565</td>\n",
       "      <td>12968</td>\n",
       "      <td>37.77</td>\n",
       "      <td>28944003</td>\n",
       "      <td>335</td>\n",
       "      <td>0</td>\n",
       "      <td>0</td>\n",
       "      <td>12</td>\n",
       "    </tr>\n",
       "    <tr>\n",
       "      <th>129913201</th>\n",
       "      <td>1403656398</td>\n",
       "      <td>2020-12-01 00:00:05</td>\n",
       "      <td>60653</td>\n",
       "      <td>17052</td>\n",
       "      <td>41.93</td>\n",
       "      <td>28944005</td>\n",
       "      <td>335</td>\n",
       "      <td>0</td>\n",
       "      <td>0</td>\n",
       "      <td>12</td>\n",
       "    </tr>\n",
       "    <tr>\n",
       "      <th>129913202</th>\n",
       "      <td>1403656399</td>\n",
       "      <td>2020-12-01 00:00:08</td>\n",
       "      <td>68692</td>\n",
       "      <td>19878</td>\n",
       "      <td>31.42</td>\n",
       "      <td>28944008</td>\n",
       "      <td>335</td>\n",
       "      <td>0</td>\n",
       "      <td>0</td>\n",
       "      <td>12</td>\n",
       "    </tr>\n",
       "    <tr>\n",
       "      <th>129913203</th>\n",
       "      <td>1403656400</td>\n",
       "      <td>2020-12-01 00:00:09</td>\n",
       "      <td>73717</td>\n",
       "      <td>5661</td>\n",
       "      <td>104.52</td>\n",
       "      <td>28944009</td>\n",
       "      <td>335</td>\n",
       "      <td>0</td>\n",
       "      <td>0</td>\n",
       "      <td>12</td>\n",
       "    </tr>\n",
       "  </tbody>\n",
       "</table>\n",
       "</div>"
      ],
      "text/plain": [
       "           TRANSACTION_ID         TX_DATETIME CUSTOMER_ID TERMINAL_ID  \\\n",
       "129913199      1403656396 2020-12-01 00:00:03      169670       18277   \n",
       "129913200      1403656397 2020-12-01 00:00:03       87565       12968   \n",
       "129913201      1403656398 2020-12-01 00:00:05       60653       17052   \n",
       "129913202      1403656399 2020-12-01 00:00:08       68692       19878   \n",
       "129913203      1403656400 2020-12-01 00:00:09       73717        5661   \n",
       "\n",
       "           TX_AMOUNT TX_TIME_SECONDS TX_TIME_DAYS  TX_FRAUD  \\\n",
       "129913199      28.41        28944003          335         0   \n",
       "129913200      37.77        28944003          335         0   \n",
       "129913201      41.93        28944005          335         0   \n",
       "129913202      31.42        28944008          335         0   \n",
       "129913203     104.52        28944009          335         0   \n",
       "\n",
       "           TX_FRAUD_SCENARIO  TX_TIME_MONTHS  \n",
       "129913199                  0              12  \n",
       "129913200                  0              12  \n",
       "129913201                  0              12  \n",
       "129913202                  0              12  \n",
       "129913203                  0              12  "
      ]
     },
     "execution_count": 28,
     "metadata": {},
     "output_type": "execute_result"
    }
   ],
   "source": [
    "data.head()"
   ]
  },
  {
   "cell_type": "code",
   "execution_count": 27,
   "id": "f8f1f462",
   "metadata": {},
   "outputs": [
    {
     "name": "stdout",
     "output_type": "stream",
     "text": [
      "Total number of transactions:  1415291701\n"
     ]
    }
   ],
   "source": [
    "print('Total number of transactions: ', data.iloc[-1]['TRANSACTION_ID'])"
   ]
  },
  {
   "cell_type": "code",
   "execution_count": 23,
   "id": "6d15260d",
   "metadata": {},
   "outputs": [
    {
     "name": "stdout",
     "output_type": "stream",
     "text": [
      "Filesystem      Size  Used Avail Use% Mounted on\r\n",
      "udev             63G     0   63G   0% /dev\r\n",
      "tmpfs            13G  988K   13G   1% /run\r\n",
      "/dev/vda2       126G  106G   16G  88% /\r\n",
      "tmpfs            63G     0   63G   0% /dev/shm\r\n",
      "tmpfs           5.0M     0  5.0M   0% /run/lock\r\n",
      "tmpfs            63G     0   63G   0% /sys/fs/cgroup\r\n",
      "tmpfs            13G     0   13G   0% /run/user/1000\r\n"
     ]
    }
   ],
   "source": [
    "!df -h"
   ]
  }
 ],
 "metadata": {
  "kernelspec": {
   "display_name": "Python 3 (ipykernel)",
   "language": "python",
   "name": "python3"
  },
  "language_info": {
   "codemirror_mode": {
    "name": "ipython",
    "version": 3
   },
   "file_extension": ".py",
   "mimetype": "text/x-python",
   "name": "python",
   "nbconvert_exporter": "python",
   "pygments_lexer": "ipython3",
   "version": "3.8.13"
  }
 },
 "nbformat": 4,
 "nbformat_minor": 5
}
